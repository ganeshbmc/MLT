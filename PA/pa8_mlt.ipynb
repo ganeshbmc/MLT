{
 "cells": [
  {
   "cell_type": "markdown",
   "metadata": {},
   "source": [
    "# PA8  "
   ]
  },
  {
   "cell_type": "code",
   "execution_count": 13,
   "metadata": {},
   "outputs": [],
   "source": [
    "import numpy as np\n",
    "import matplotlib.pyplot as plt\n",
    "import seaborn as sns\n",
    "\n",
    "from sklearn.datasets import make_classification, make_blobs\n",
    "\n",
    "# set default color map for entire notebook/session\n",
    "sns.set_theme(style='whitegrid')"
   ]
  },
  {
   "cell_type": "code",
   "execution_count": 14,
   "metadata": {},
   "outputs": [],
   "source": [
    "class softSVM:\n",
    "    def __init__(self, C):\n",
    "        self._support_vectors = None\n",
    "        self.C = C\n",
    "        self.w = None\n",
    "        self.b = None\n",
    "        self.X = None\n",
    "        self.y = None\n",
    "\n",
    "        # n is the number of data points\n",
    "        self.n = 0\n",
    "\n",
    "        # d is the number of dimensions \n",
    "        self.d = 0\n",
    "\n",
    "    def __decision_function(self, X):\n",
    "        return X.dot(self.w) + self.b\n",
    "\n",
    "    def __cost(self, margin):\n",
    "        return (1/2) * self.w.dot(self.w) + self.C * np.sum(\n",
    "            np.maximum(0, 1- margin))\n",
    "\n",
    "    def __margin(self, X, y):\n",
    "        return y * self.__decision_function(X)\n",
    "\n",
    "    def fit(self, X, y, lr=1e-3, epochs=500):\n",
    "        # Initialize w and b\n",
    "        self.n, self.d = X.shape\n",
    "        self.w = np.random.randn(self.d)\n",
    "        self.b = 0\n",
    "\n",
    "        # Required only for plotting\n",
    "        self.X = X\n",
    "        self.y = y\n",
    "\n",
    "        loss_array = []\n",
    "        for _ in range(epochs):\n",
    "            margin = self.__margin(X, y)\n",
    "            loss = self.__cost(margin)\n",
    "            loss_array.append(loss)\n",
    "\n",
    "            misclassified_pts_idx = np.where(margin < 1)[0]\n",
    "            d_w = self.w - self.C * y[misclassified_pts_idx].dot(\n",
    "                X[misclassified_pts_idx])\n",
    "            self.w = self.w - lr * d_w\n",
    "\n",
    "            d_b = -self.C * np.sum(y[misclassified_pts_idx])\n",
    "            self.b = self.b - lr * d_b\n",
    "\n",
    "        self._support_vectors = np.where(\n",
    "            self.__margin(X, y) <= self.__margin(X, y))[0]\n",
    "\n",
    "    def predict(self, X):\n",
    "        return np.sign(self.__decision_function(X))\n",
    "\n",
    "    def score(self, X, y):\n",
    "        P = self.predict(X)\n",
    "        return np.mean(y = P)\n",
    "\n",
    "    def plot_decision_boundary(self):\n",
    "        plt.scatter(self.X[:, 0], self.X[:, 1], c=self.y, marker='o',\n",
    "                    s=100, cmap='autumn')\n",
    "        ax = plt.gca()\n",
    "        xlim = ax.get_xlim()\n",
    "        ylim = ax.get_ylim()\n",
    "\n",
    "        # create grid to evaluate model\n",
    "        xx = np.linspace(xlim[0], xlim[1], 30)\n",
    "        yy = np.linspace(ylim[0], ylim[1], 30)\n",
    "        YY, XX = np.meshgrid(yy, xx)\n",
    "        xy = np.vstack([XX.ravel(), YY.ravel()]).T\n",
    "        Z = self.__decision_function(xy).reshape(XX.shape)\n",
    "\n",
    "        # plot decision boundary and margins\n",
    "        ax.contour(XX, YY, Z, colors=['g', 'k', 'g'], levels=[-1, 0, 1],\n",
    "                    linestyles=['--', '-', '--'], linewidths=[2.0, 2.0, 2.0])\n",
    "\n",
    "        # highlight the support vectors \n",
    "        ax.scatter(self.X[:, 0][self._support_vectors],\n",
    "                    self.X[:, 1][self._support_vectors], s=250,\n",
    "                    linewidth=1, facecolors='none', edgecolors='k')\n",
    "        plt.xlabel('x1')\n",
    "        plt.xlabel('x2')\n",
    "        plt.show()"
   ]
  },
  {
   "cell_type": "markdown",
   "metadata": {},
   "source": [
    "`Q1`  "
   ]
  },
  {
   "cell_type": "code",
   "execution_count": 15,
   "metadata": {},
   "outputs": [
    {
     "data": {
      "text/plain": [
       "((8, 2), (8,))"
      ]
     },
     "execution_count": 15,
     "metadata": {},
     "output_type": "execute_result"
    }
   ],
   "source": [
    "X = np.array([[2,1],\n",
    "                [2,-1],\n",
    "                [0,2],\n",
    "                [4,0],\n",
    "                [5,1],\n",
    "                [6,2],\n",
    "                [-1,0],\n",
    "                [5,-1]])\n",
    "y = np.array([-1,-1,-1,1,1,1,-1,1])\n",
    "X.shape, y.shape"
   ]
  },
  {
   "cell_type": "code",
   "execution_count": null,
   "metadata": {},
   "outputs": [],
   "source": [
    "class SVMDualProblem:\n",
    "    def __init__(self, C=1.0, kernel='rbf', sigma=0.1, degree=2):\n",
    "        self.C = C\n",
    "        if kernel == 'poly':\n",
    "            self.kernel = self._polynomial_kernel\n",
    "            self.c = 1\n",
    "            self.degree = degree\n",
    "        else:\n",
    "            self.kernel = self._rbf_kernel\n",
    "            self.sigma = sigma\n",
    "\n",
    "        self.X = None\n",
    "        self.y = None\n",
    "        self.alpha = None\n",
    "        self.b = 0\n",
    "        self.ones = None\n",
    "\n",
    "    def _rbf_kernel(self, X1, X2):\n",
    "        return np.exp(-(1 / self.sigma ** 2) * np.linalg.norm(\n",
    "            X1[:, np.newaxis] - X2[np.newaxis, :], axis=2) ** 2)\n",
    "        \n",
    "    def _polynomial_kernel(self, X1, X2):\n",
    "        return (self.c + X1.dot(X2.T)) ** self.degree\n",
    "\n",
    "    def fit(self, X, y, lr=1e-3, epochs=100):\n",
    "\n",
    "        self.X = X\n",
    "        self.y = y\n",
    "\n",
    "        self.alpha = np.random.random(X.shape[0])\n",
    "        self.b = 0\n",
    "        self.ones = np.ones(X.shape[0])\n",
    "\n",
    "        y_iy_jk_ij = np.outer(y, y) * self.kernel(X, X)\n",
    "\n",
    "        losses = []\n",
    "        for _ in range(epochs):\n",
    "            gradient = self.ones - y_iy_jk_ij.dot(self.alpha)\n",
    "\n",
    "            self.alpha = self.alpha + lr * gradient\n",
    "\n",
    "            self.alpha[self.alpha > self.C] = self.C\n",
    "            self.alpha[self.alpha < 0] = 0\n",
    "\n",
    "            loss = np.sum(self.alpha) - 0.5 * np.sum(\n",
    "                np.outer(self.alpha, self.alpha) * y_iy_jk_ij)\n",
    "            losses.append(loss)\n",
    "\n",
    "        index = np.where((self.alpha) > 0 & (self.alpha < self.C))[0]\n",
    "        b_i = y[index] - (self.alpha * y).dot(self.kernel(X, X[index]))\n",
    "        # Alternative code\n",
    "        # b_i = y[index] - np.sum((self.alpha * y).reshape(-1, 1) * self.kernel(X, X[index]), axis=0)\n",
    "        self.b = np.mean(b_i)\n",
    "\n",
    "        plt.plot(losses)\n",
    "        plt.title(\"loss per epochs\")\n",
    "\n",
    "    def _decision_function(self, X):\n",
    "        return (self.alpha * self.y).dot(self.kernel(self.X, X)) + self.b\n",
    "\n",
    "    def predict(self, X):\n",
    "        return np.sign(self._decision_function(X))\n",
    "\n",
    "    def score(self, X, y):\n",
    "        y_hat = self.predict(X)\n",
    "        return np.mean(y == y_hat)\n",
    "\n",
    "    def plot_decision_boundary(self):\n",
    "        plt.scatter(self.X[:, 0], self.X[:, 1], c=self.y, s=50, cmap=plt.cm.Paired, alpha=0.5)\n",
    "        ax = plt.gca()\n",
    "        xlim = ax.get_xlim()\n",
    "        ylim = ax.get_ylim()\n",
    "\n",
    "        # create grid to evaluate model\n",
    "        xx = np.linspace(xlim[0], xlim[1], 30)\n",
    "        yy = np.linspace(ylim[0], ylim[1], 30)\n",
    "        YY, XX = np.meshgrid(yy, xx)\n",
    "        xy = np.vstack([XX.ravel(), YY.ravel()]).T\n",
    "        Z = self._decision_function(xy).reshape(XX.shape)\n",
    "\n",
    "        # plot decision boundary and margins\n",
    "        ax.contour(XX, YY, Z, colors=['b', 'g', 'r'], levels=[-1, 0, 1],\n",
    "                    linestyles=['--', '-', '--'], linewidths=[2.0, 2.0, 2.0])\n",
    "\n",
    "        # highlight the support vectors \n",
    "        ax.scatter(self.X[:, 0][self.alpha > 0.],\n",
    "                    self.X[:, 1][self.alpha > 0.], \n",
    "                    s=50, linewidth=1, facecolors='none', edgecolors='k')\n",
    "        plt.xlabel('x1')\n",
    "        plt.xlabel('x2')\n",
    "        plt.show()"
   ]
  },
  {
   "cell_type": "code",
   "execution_count": 16,
   "metadata": {},
   "outputs": [
    {
     "data": {
      "text/plain": [
       "array([0, 1, 2, 3, 4, 5, 6, 7], dtype=int64)"
      ]
     },
     "execution_count": 16,
     "metadata": {},
     "output_type": "execute_result"
    }
   ],
   "source": [
    "svm1 = softSVM(10)\n",
    "svm1.fit(X, y)\n",
    "svm1._support_vectors"
   ]
  },
  {
   "cell_type": "code",
   "execution_count": 17,
   "metadata": {},
   "outputs": [
    {
     "data": {
      "image/png": "[encoded data removed]",
      "text/plain": [
       "<Figure size 432x288 with 1 Axes>"
      ]
     },
     "metadata": {},
     "output_type": "display_data"
    }
   ],
   "source": [
    "svm1.plot_decision_boundary()"
   ]
  },
  {
   "cell_type": "markdown",
   "metadata": {},
   "source": [
    "`Q2`  "
   ]
  },
  {
   "cell_type": "code",
   "execution_count": 19,
   "metadata": {},
   "outputs": [
    {
     "data": {
      "text/plain": [
       "((8, 2), (8,))"
      ]
     },
     "execution_count": 19,
     "metadata": {},
     "output_type": "execute_result"
    }
   ],
   "source": [
    "X2 = np.array([[3,1],\n",
    "                [3,-1],\n",
    "                [6,1],\n",
    "                [6,-1],\n",
    "                [1,0],\n",
    "                [0,1],\n",
    "                [0,-1],\n",
    "                [-1,0]])\n",
    "y2 = np.array([1,1,1,1,-1,-1,-1,-1])\n",
    "X2.shape, y2.shape"
   ]
  },
  {
   "cell_type": "code",
   "execution_count": 20,
   "metadata": {},
   "outputs": [],
   "source": [
    "svm2 = softSVM(10)\n",
    "svm2.fit(X2, y2)"
   ]
  },
  {
   "cell_type": "code",
   "execution_count": 21,
   "metadata": {},
   "outputs": [
    {
     "data": {
      "text/plain": [
       "(array([ 1.02900115, -0.00395199]), -2.0400000000000005)"
      ]
     },
     "execution_count": 21,
     "metadata": {},
     "output_type": "execute_result"
    }
   ],
   "source": [
    "svm2.w, svm2.b"
   ]
  },
  {
   "cell_type": "code",
   "execution_count": 23,
   "metadata": {},
   "outputs": [
    {
     "data": {
      "image/png": "[encoded data removed]",
      "text/plain": [
       "<Figure size 432x288 with 1 Axes>"
      ]
     },
     "metadata": {},
     "output_type": "display_data"
    }
   ],
   "source": [
    "svm2.plot_decision_boundary()"
   ]
  },
  {
   "cell_type": "markdown",
   "metadata": {},
   "source": [
    "`Q11`  \n",
    "\n",
    "To be revisited  "
   ]
  },
  {
   "cell_type": "code",
   "execution_count": 31,
   "metadata": {},
   "outputs": [],
   "source": [
    "class SVMDualProblem:\n",
    "    def __init__(self, C=1.0, kernel='rbf', sigma=0.1, degree=2):\n",
    "        self.C = C\n",
    "        if kernel == 'poly':\n",
    "            self.kernel = self._polynomial_kernel\n",
    "            self.c = 1\n",
    "            self.degree = degree\n",
    "        else:\n",
    "            self.kernel = self._rbf_kernel\n",
    "            self.sigma = sigma\n",
    "\n",
    "        self.X = None\n",
    "        self.y = None\n",
    "        self.alpha = None\n",
    "        self.b = 0\n",
    "        self.ones = None\n",
    "\n",
    "    def _rbf_kernel(self, X1, X2):\n",
    "        return np.exp(-(1 / self.sigma ** 2) * np.linalg.norm(\n",
    "            X1[:, np.newaxis] - X2[np.newaxis, :], axis=2) ** 2)\n",
    "        \n",
    "    def _polynomial_kernel(self, X1, X2):\n",
    "        return (self.c + X1.dot(X2.T)) ** self.degree\n",
    "\n",
    "    def fit(self, X, y, lr=1e-3, epochs=100):\n",
    "\n",
    "        self.X = X\n",
    "        self.y = y\n",
    "\n",
    "        self.alpha = np.random.random(X.shape[0])\n",
    "        self.b = 0\n",
    "        self.ones = np.ones(X.shape[0])\n",
    "\n",
    "        y_iy_jk_ij = np.outer(y, y) * self.kernel(X, X)\n",
    "\n",
    "        losses = []\n",
    "        for _ in range(epochs):\n",
    "            gradient = self.ones - y_iy_jk_ij.dot(self.alpha)\n",
    "\n",
    "            self.alpha = self.alpha + lr * gradient\n",
    "\n",
    "            self.alpha[self.alpha > self.C] = self.C\n",
    "            self.alpha[self.alpha < 0] = 0\n",
    "\n",
    "            loss = np.sum(self.alpha) - 0.5 * np.sum(\n",
    "                np.outer(self.alpha, self.alpha) * y_iy_jk_ij)\n",
    "            losses.append(loss)\n",
    "\n",
    "        index = np.where((self.alpha) > 0 & (self.alpha < self.C))[0]\n",
    "        b_i = y[index] - (self.alpha * y).dot(self.kernel(X, X[index]))\n",
    "        # Alternative code\n",
    "        # b_i = y[index] - np.sum((self.alpha * y).reshape(-1, 1) * self.kernel(X, X[index]), axis=0)\n",
    "        self.b = np.mean(b_i)\n",
    "\n",
    "        plt.plot(losses)\n",
    "        plt.title(\"loss per epochs\")\n",
    "\n",
    "    def _decision_function(self, X):\n",
    "        return (self.alpha * self.y).dot(self.kernel(self.X, X)) + self.b\n",
    "\n",
    "    def predict(self, X):\n",
    "        return np.sign(self._decision_function(X))\n",
    "\n",
    "    def score(self, X, y):\n",
    "        y_hat = self.predict(X)\n",
    "        return np.mean(y == y_hat)\n",
    "\n",
    "    def plot_decision_boundary(self):\n",
    "        plt.scatter(self.X[:, 0], self.X[:, 1], c=self.y, s=50, cmap=plt.cm.Paired, alpha=0.5)\n",
    "        ax = plt.gca()\n",
    "        xlim = ax.get_xlim()\n",
    "        ylim = ax.get_ylim()\n",
    "\n",
    "        # create grid to evaluate model\n",
    "        xx = np.linspace(xlim[0], xlim[1], 30)\n",
    "        yy = np.linspace(ylim[0], ylim[1], 30)\n",
    "        YY, XX = np.meshgrid(yy, xx)\n",
    "        xy = np.vstack([XX.ravel(), YY.ravel()]).T\n",
    "        Z = self._decision_function(xy).reshape(XX.shape)\n",
    "\n",
    "        # plot decision boundary and margins\n",
    "        ax.contour(XX, YY, Z, colors=['b', 'g', 'r'], levels=[-1, 0, 1],\n",
    "                    linestyles=['--', '-', '--'], linewidths=[2.0, 2.0, 2.0])\n",
    "\n",
    "        # highlight the support vectors \n",
    "        ax.scatter(self.X[:, 0][self.alpha > 0.],\n",
    "                    self.X[:, 1][self.alpha > 0.], \n",
    "                    s=50, linewidth=1, facecolors='none', edgecolors='k')\n",
    "        plt.xlabel('x1')\n",
    "        plt.xlabel('x2')\n",
    "        plt.show()"
   ]
  },
  {
   "cell_type": "code",
   "execution_count": 32,
   "metadata": {},
   "outputs": [
    {
     "data": {
      "text/plain": [
       "((8, 2), (8,))"
      ]
     },
     "execution_count": 32,
     "metadata": {},
     "output_type": "execute_result"
    }
   ],
   "source": [
    "X3 = np.array([[2,0],\n",
    "                [0,2],\n",
    "                [-2,0],\n",
    "                [0,-2],\n",
    "                [1,1],\n",
    "                [1,-1],\n",
    "                [-1,1],\n",
    "                [-1,-1]])\n",
    "y3 = np.array([1,1,1,1,-1,-1,-1,-1])\n",
    "X3.shape, y3.shape"
   ]
  },
  {
   "cell_type": "code",
   "execution_count": 37,
   "metadata": {},
   "outputs": [
    {
     "data": {
      "image/png": "[encoded data removed]",
      "text/plain": [
       "<Figure size 432x288 with 1 Axes>"
      ]
     },
     "metadata": {},
     "output_type": "display_data"
    }
   ],
   "source": [
    "svm3 = SVMDualProblem(C=1.0, kernel='poly', degree=2)\n",
    "svm3.fit(X3, y3)"
   ]
  },
  {
   "cell_type": "code",
   "execution_count": 38,
   "metadata": {},
   "outputs": [
    {
     "data": {
      "image/png": "[encoded data removed]",
      "text/plain": [
       "<Figure size 432x288 with 1 Axes>"
      ]
     },
     "metadata": {},
     "output_type": "display_data"
    }
   ],
   "source": [
    "svm3.plot_decision_boundary()"
   ]
  }
 ],
 "metadata": {
  "kernelspec": {
   "display_name": "Python 3.9.12 ('tf')",
   "language": "python",
   "name": "python3"
  },
  "language_info": {
   "codemirror_mode": {
    "name": "ipython",
    "version": 3
   },
   "file_extension": ".py",
   "mimetype": "text/x-python",
   "name": "python",
   "nbconvert_exporter": "python",
   "pygments_lexer": "ipython3",
   "version": "3.9.12"
  },
  "orig_nbformat": 4,
  "vscode": {
   "interpreter": {
    "hash": "78ddfc3686b8b7161f2836984651df038ec9a0366954334fc42499f59ad2b3c8"
   }
  }
 },
 "nbformat": 4,
 "nbformat_minor": 2
}
