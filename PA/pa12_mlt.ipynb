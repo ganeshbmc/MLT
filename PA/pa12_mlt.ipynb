{
 "cells": [
  {
   "cell_type": "markdown",
   "metadata": {},
   "source": [
    "# PA12  "
   ]
  },
  {
   "cell_type": "code",
   "execution_count": 1,
   "metadata": {},
   "outputs": [],
   "source": [
    "h = [15, 20, 30, 40, 15, 5]"
   ]
  },
  {
   "cell_type": "markdown",
   "metadata": {},
   "source": [
    "`Q1`  "
   ]
  },
  {
   "cell_type": "code",
   "execution_count": 2,
   "metadata": {},
   "outputs": [
    {
     "data": {
      "text/plain": [
       "4"
      ]
     },
     "execution_count": 2,
     "metadata": {},
     "output_type": "execute_result"
    }
   ],
   "source": [
    "len(h[1:-1])"
   ]
  },
  {
   "cell_type": "markdown",
   "metadata": {},
   "source": [
    "`Q2`  "
   ]
  },
  {
   "cell_type": "code",
   "execution_count": 3,
   "metadata": {},
   "outputs": [
    {
     "data": {
      "text/plain": [
       "2885"
      ]
     },
     "execution_count": 3,
     "metadata": {},
     "output_type": "execute_result"
    }
   ],
   "source": [
    "num_params = 0\n",
    "for l in range(1, len(h)):\n",
    "    num_weights = h[l-1] * h[l]\n",
    "    num_biases = h[l]\n",
    "    num_params += (num_weights + num_biases)\n",
    "num_params"
   ]
  },
  {
   "cell_type": "code",
   "execution_count": 5,
   "metadata": {},
   "outputs": [
    {
     "data": {
      "text/plain": [
       "2885"
      ]
     },
     "execution_count": 5,
     "metadata": {},
     "output_type": "execute_result"
    }
   ],
   "source": [
    "# Alternate method\n",
    "def count_params(h):\n",
    "    c = sum([h[i-1]*h[i] for i in range(1, len(h))])\n",
    "    c += sum(h[1:])\n",
    "    return c\n",
    "\n",
    "# c, k = 0, 0\n",
    "# def count_params(h):\n",
    "#     global c, k\n",
    "#     if len(h) <= 1:\n",
    "#         return c\n",
    "#     k = h[-1] * h[-2]\n",
    "#     c += k\n",
    "#     print(c)\n",
    "#     i = h.pop()\n",
    "#     c += i\n",
    "#     return count_params(h)\n",
    "\n",
    "count_params(h)"
   ]
  },
  {
   "cell_type": "markdown",
   "metadata": {},
   "source": [
    "`Q3`  \n",
    "\n",
    "`Ans: 1`  \n",
    "The sum of probabilities of the output vector in multiclass classification should sum to 1.  "
   ]
  },
  {
   "cell_type": "markdown",
   "metadata": {},
   "source": [
    "`Q4`  "
   ]
  },
  {
   "cell_type": "code",
   "execution_count": 13,
   "metadata": {},
   "outputs": [
    {
     "name": "stdout",
     "output_type": "stream",
     "text": [
      "Network: [15, 20, 30, 40, 15, 5]\n",
      "Shape of weight matrix at layer 2: (20, 30)\n"
     ]
    }
   ],
   "source": [
    "# shape of weight matrix at layer 2\n",
    "print(f\"Network: {h}\")\n",
    "print(f\"Shape of weight matrix at layer 2: {(h[2-1], h[2])}\")"
   ]
  },
  {
   "cell_type": "markdown",
   "metadata": {},
   "source": [
    "`Q5`  \n",
    "\n",
    "`Ans: c`  \n",
    "The sum of probabilities of the output vector in multiclass classification should sum to 1.  "
   ]
  },
  {
   "cell_type": "markdown",
   "metadata": {},
   "source": [
    "`Q6`  \n",
    "\n",
    "`Ans: c`  \n",
    "\n",
    "Softmax output will sum to 1 since it represents the probability vector.  \n",
    "Sigmoid function output has range [0, 1].  \n",
    "ReLU has range [0, max(z)]. Therefore, this is the answer.  \n",
    "Tanh has range [-1, 1].  "
   ]
  },
  {
   "cell_type": "markdown",
   "metadata": {},
   "source": [
    "`Q7`  \n",
    "\n",
    "`Ans: a`  \n",
    "\n",
    "Just keep the necessary number of neurons in output layer.  \n",
    "And modify the loss function, say to sum of squared errors for each of the outputs.  "
   ]
  },
  {
   "cell_type": "markdown",
   "metadata": {},
   "source": [
    "`Q8`  \n",
    "\n",
    "`Ans: 5`  "
   ]
  },
  {
   "cell_type": "markdown",
   "metadata": {},
   "source": [
    "`Q9`  \n",
    "\n",
    "`Ans: d`  \n",
    "\n",
    "Self-explanatory.  "
   ]
  },
  {
   "cell_type": "markdown",
   "metadata": {},
   "source": [
    "`Q10`  \n",
    "\n",
    "`Ans: b`  \n",
    "\n",
    "Neural networks learn non-linear relationships. The equation in this question is linear and hence won't hold true.  "
   ]
  }
 ],
 "metadata": {
  "kernelspec": {
   "display_name": "Python 3.9.12 ('tf')",
   "language": "python",
   "name": "python3"
  },
  "language_info": {
   "codemirror_mode": {
    "name": "ipython",
    "version": 3
   },
   "file_extension": ".py",
   "mimetype": "text/x-python",
   "name": "python",
   "nbconvert_exporter": "python",
   "pygments_lexer": "ipython3",
   "version": "3.9.12"
  },
  "orig_nbformat": 4,
  "vscode": {
   "interpreter": {
    "hash": "78ddfc3686b8b7161f2836984651df038ec9a0366954334fc42499f59ad2b3c8"
   }
  }
 },
 "nbformat": 4,
 "nbformat_minor": 2
}
