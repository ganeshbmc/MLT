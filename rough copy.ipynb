{
 "cells": [
  {
   "cell_type": "markdown",
   "metadata": {},
   "source": [
    "## Q3 GA5"
   ]
  },
  {
   "cell_type": "code",
   "execution_count": 2,
   "metadata": {},
   "outputs": [
    {
     "name": "stdout",
     "output_type": "stream",
     "text": [
      "(2, 2)\n",
      "(2,)\n",
      "(2,)\n"
     ]
    }
   ],
   "source": [
    "X = np.array([[1, 2], [1, 3]])\n",
    "y = np.array([1, 0])\n",
    "w = np.array([0.1, 0.2])\n",
    "print(X.shape)\n",
    "print(y.shape)\n",
    "print(w.shape)"
   ]
  },
  {
   "cell_type": "code",
   "execution_count": 3,
   "metadata": {},
   "outputs": [],
   "source": [
    "class LogisticRegression(object):\n",
    "  def set_weight_vector(self, w):\n",
    "    self.w = w\n",
    "\n",
    "  def linear_combination(self, X:np.ndarray) -> np.ndarray:\n",
    "    return X @ self.w\n",
    "\n",
    "  def sigmoid(self, z:np.ndarray) -> np.ndarray:\n",
    "    return 1/(1 + np.exp(-z))\n",
    "\n",
    "  def activation(self, X:np.ndarray) -> np.ndarray:\n",
    "    return self.sigmoid(self.linear_combination(X))\n",
    "\n",
    "  def predict(self, x:np.ndarray, threshold:float = 0.5):\n",
    "    return (self.activation(x) > threshold).astype(int)\n",
    "\n",
    "  def loss(self, X:np.ndarray, y:np.ndarray, reg_rate:float) -> float:\n",
    "    predicted_prob = self.activation(X)\n",
    "    return (-1 * (np.sum(y * np.log(predicted_prob) + (1-y) * np.log(1-predicted_prob))) +\n",
    "    reg_rate * np.dot(np.transpose(self.w), self.w))\n",
    "\n",
    "  def calculate_gradient(self, X:np.ndarray, y:np.ndarray, reg_rate:float) -> np.ndarray:\n",
    "    return np.transpose(X) @ (self.activation(X) - y) + reg_rate * self.w\n",
    "\n",
    "  def update_weights(self, grad:np.ndarray, lr:float) -> np.ndarray:\n",
    "    return (self.w - lr*grad)\n",
    "\n",
    "  def gd(self, X:np.ndarray, y:np.ndarray,\n",
    "         num_epochs:int, lr:float, reg_rate:float) -> np.ndarray:\n",
    "    self.w = np.zeros(X.shape[1])\n",
    "    self.w_all = []\n",
    "    self.err_all = []\n",
    "    for i in np.arange(0, num_epochs):\n",
    "      dJdw = self.calculate_gradient(X, y, reg_rate)\n",
    "      self.w_all.append(self.w)\n",
    "      self.err_all.append(self.loss(X, y, reg_rate))\n",
    "      self.w = self.update_weights(dJdw, lr)\n",
    "    return self.w"
   ]
  },
  {
   "cell_type": "code",
   "execution_count": 5,
   "metadata": {},
   "outputs": [],
   "source": [
    "log_reg = LogisticRegression()"
   ]
  },
  {
   "cell_type": "code",
   "execution_count": null,
   "metadata": {},
   "outputs": [
    {
     "data": {
      "text/plain": [
       "array([0.5, 0.7])"
      ]
     },
     "execution_count": 10,
     "metadata": {},
     "output_type": "execute_result"
    }
   ],
   "source": [
    "z = X @ w\n",
    "z"
   ]
  },
  {
   "cell_type": "code",
   "execution_count": null,
   "metadata": {},
   "outputs": [
    {
     "data": {
      "text/plain": [
       "array([0.62245933, 0.66818777])"
      ]
     },
     "execution_count": 11,
     "metadata": {},
     "output_type": "execute_result"
    }
   ],
   "source": [
    "sig = 1/(1+np.exp(-z))\n",
    "sig"
   ]
  },
  {
   "cell_type": "code",
   "execution_count": null,
   "metadata": {},
   "outputs": [
    {
     "data": {
      "text/plain": [
       "array([0.2906471 , 1.24948198])"
      ]
     },
     "execution_count": 14,
     "metadata": {},
     "output_type": "execute_result"
    }
   ],
   "source": [
    "loss_grad = np.transpose(X) @ (sig - y)\n",
    "loss_grad"
   ]
  },
  {
   "cell_type": "markdown",
   "metadata": {},
   "source": [
    "# Q7 GA5"
   ]
  },
  {
   "cell_type": "code",
   "execution_count": null,
   "metadata": {},
   "outputs": [
    {
     "data": {
      "text/plain": [
       "2.397605254857639"
      ]
     },
     "execution_count": 17,
     "metadata": {},
     "output_type": "execute_result"
    }
   ],
   "source": [
    "yt = np.array([ 1, 0, 0, 1, 0, 0, 0, 1, 1 ])\n",
    "predicted_prob = np.array([0.9,0.3,0.25,0.88,0.1,0.1,0.6,0.9,0.75])\n",
    "-1 * (np.sum(yt * np.log(predicted_prob) + (1-yt) * np.log(1-predicted_prob)))"
   ]
  }
 ],
 "metadata": {
  "interpreter": {
   "hash": "a9fc4c7d055303a75ac6825ce3e810b1379669e9cb09d6b336d4c18851158a95"
  },
  "kernelspec": {
   "display_name": "Python 3.9.7 ('base')",
   "language": "python",
   "name": "python3"
  },
  "language_info": {
   "codemirror_mode": {
    "name": "ipython",
    "version": 3
   },
   "file_extension": ".py",
   "mimetype": "text/x-python",
   "name": "python",
   "nbconvert_exporter": "python",
   "pygments_lexer": "ipython3",
   "version": "3.9.7"
  },
  "orig_nbformat": 4
 },
 "nbformat": 4,
 "nbformat_minor": 2
}
