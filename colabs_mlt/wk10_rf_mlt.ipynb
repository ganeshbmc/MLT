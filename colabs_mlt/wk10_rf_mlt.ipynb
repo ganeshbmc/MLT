{
 "cells": [
  {
   "cell_type": "markdown",
   "metadata": {},
   "source": [
    "# Random Forests  \n",
    "\n",
    "Random forest is a bagging technique that trains multiple decision trees with minor modification in split criterion.  "
   ]
  },
  {
   "cell_type": "markdown",
   "metadata": {},
   "source": [
    "`Algorithm:` [video link](https://youtu.be/CJ3KQYsJPVI?t=54)  "
   ]
  },
  {
   "cell_type": "markdown",
   "metadata": {},
   "source": [
    "## Implementation  "
   ]
  },
  {
   "cell_type": "code",
   "execution_count": 1,
   "metadata": {},
   "outputs": [],
   "source": [
    "import numpy as np\n",
    "import pandas as pd\n",
    "from collections import Counter\n",
    "from sklearn.tree import DecisionTreeClassifier"
   ]
  },
  {
   "cell_type": "code",
   "execution_count": 2,
   "metadata": {},
   "outputs": [],
   "source": [
    "# ?Counter"
   ]
  },
  {
   "cell_type": "markdown",
   "metadata": {},
   "source": [
    "## Bagging (Bootstrap aggregation)  "
   ]
  },
  {
   "cell_type": "code",
   "execution_count": 3,
   "metadata": {},
   "outputs": [],
   "source": [
    "def bag(X, y):\n",
    "    # Counts the number of rows in th feature matrix\n",
    "    n_samples = X.shape[0]\n",
    "\n",
    "    # Generates a random sample from the given input\n",
    "    indices = np.random.choice(n_samples, size=n_samples, replace=True, random_state=1)\n",
    "    # Note that the second argument size has been set to the size of the \n",
    "    # original sample dataset and replacement has been set to True\n",
    "\n",
    "    return X[indices], y[indices]"
   ]
  },
  {
   "cell_type": "markdown",
   "metadata": {},
   "source": [
    "## Majority voting  "
   ]
  },
  {
   "cell_type": "code",
   "execution_count": 4,
   "metadata": {},
   "outputs": [],
   "source": [
    "def most_common_label(y):\n",
    "    counter = Counter(y)\n",
    "    most_common = counter.most_common(1)[0][0]\n",
    "    return most_common"
   ]
  },
  {
   "cell_type": "markdown",
   "metadata": {},
   "source": [
    "## Random forest class  "
   ]
  },
  {
   "cell_type": "markdown",
   "metadata": {},
   "source": [
    "We create a `RandomForest` class with the following default parameters:  \n",
    "\n",
    "* number of tree = 10  \n",
    "* minimum number of samples = 2  \n",
    "* maximum depth = 100  \n",
    "\n",
    "The `max_features` is a configurable parameter that can be set by user.  "
   ]
  },
  {
   "cell_type": "code",
   "execution_count": 5,
   "metadata": {},
   "outputs": [],
   "source": [
    "class RandomForest:\n",
    "    def __init__(self, n_trees=10, min_samples_split=2, max_depth=100, max_features=None):\n",
    "        self.n_trees = n_trees  #hyperparameter for fixing the number of trees to be generated  \n",
    "        self.min_samples_split = min_samples_split      #min number of samples required for split  \n",
    "        self.max_depth = max_depth      #maximum depth of the decision tree \n",
    "        self.max_features = max_features    #maximum number of features to be considered\n",
    "        self.trees = []"
   ]
  },
  {
   "cell_type": "markdown",
   "metadata": {},
   "source": [
    "## Training random forest  "
   ]
  },
  {
   "cell_type": "code",
   "execution_count": 6,
   "metadata": {},
   "outputs": [],
   "source": [
    "def fit(self, X, y):\n",
    "    self.trees = []     # Empty array of tree which gets filled during operation  \n",
    "    for _ in range(self.n_trees):   #we are using underscore we are just repeating operations  \n",
    "        tree = DecisionTreeClassifier(  # We will now make a RF class inherit functions from sklearn\n",
    "            min_samples_split=self.min_samples_split,\n",
    "            max_depth=self.max_depth,\n",
    "            max_features = self.max_features)\n",
    "        X_sample, y_sample = bag(X, y)\n",
    "        tree.fit(X_sample, y_sample)\n",
    "        self.trees.apend(tree)      # We will append each of those trees.  "
   ]
  },
  {
   "cell_type": "markdown",
   "metadata": {},
   "source": [
    "## Inference  "
   ]
  },
  {
   "cell_type": "code",
   "execution_count": 7,
   "metadata": {},
   "outputs": [],
   "source": [
    "def predict(self, X):\n",
    "    tree_predict = np.array([tree_predict(X) for tree in self.trees])   # converting a list to numpy has issues.  \n",
    "    tree_predict= np.swapaxes(tree_predict, 0, 1)   # each of the trees will give out the prediction  \n",
    "    y_pred = [most_common_label, 0, 1]\n",
    "    return np.array(y_pred)"
   ]
  },
  {
   "cell_type": "markdown",
   "metadata": {},
   "source": [
    "## Cleaned up code  \n",
    "\n",
    "Combining the different components for creating the class  "
   ]
  },
  {
   "cell_type": "code",
   "execution_count": 15,
   "metadata": {},
   "outputs": [],
   "source": [
    "def bag(X, y):\n",
    "    n_samples = X.shape[0]      # Counts the number of rows in the feature matrix  \n",
    "    indices = np.random.choice(n_samples, size=n_samples, replace=True)     # generates a random sample set\n",
    "    # Note that the second argument size has been set to the size of the original sample dataset and replace is set to True\n",
    "    return X[indices], y[indices]\n",
    "\n",
    "def most_common_label(y):\n",
    "    counter = Counter(y)\n",
    "    most_common = counter.most_common(1)[0][0]\n",
    "    return most_common\n",
    "\n",
    "class RandomForest:\n",
    "    def __init__(self, n_trees=10, min_samples_split=2, max_depth=100, max_features=None):\n",
    "        self.n_trees = n_trees      # Hyperparameter for fixing the number of trees to be generated\n",
    "        self.min_samples_split = min_samples_split      # min number of samples required for split\n",
    "        self.max_depth = max_depth  # maximum depth of the decision tree\n",
    "        self.max_features = max_features    # maximum number of features to be considered\n",
    "        self.trees = []\n",
    "\n",
    "    def fit(self, X, y):\n",
    "        self.trees = []     # Empty array of tree which gets filled during operation\n",
    "        for _ in range(self.n_trees):\n",
    "            tree = DecisionTreeClassifier(  # We will now make RF class inherit features from sklearn API\n",
    "                min_samples_split=self.min_samples_split,\n",
    "                max_depth = self.max_depth,\n",
    "                max_features=self.max_features,\n",
    "            random_state=1)\n",
    "            X_sample, y_sample = bag(X, y)\n",
    "            tree.fit(X_sample, y_sample)    # This fit method is on the sklearn tree object; this is not a recursion\n",
    "            self.trees.append(tree) #we will append each of these tree\n",
    "\n",
    "    def predict(self, X):\n",
    "        tree_predict = np.array([tree.predict(X) for tree in self.trees])   #converting list to np array\n",
    "        tree_predict = np.swapaxes(tree_predict, 0, 1)  # each of the trees will give out predictions\n",
    "        y_pred = [most_common_label(tree_pred) for tree_pred in tree_predict]\n",
    "        return np.array(y_pred)\n"
   ]
  },
  {
   "cell_type": "markdown",
   "metadata": {},
   "source": [
    "Let us demonstrate our implementation of RandomForest on a real world dataset.  "
   ]
  },
  {
   "cell_type": "code",
   "execution_count": 56,
   "metadata": {},
   "outputs": [
    {
     "name": "stdout",
     "output_type": "stream",
     "text": [
      "Accuracy: 0.9473684210526315\n"
     ]
    }
   ],
   "source": [
    "from sklearn import datasets\n",
    "from sklearn.model_selection import train_test_split\n",
    "\n",
    "def accuracy(y_true, y_pred):\n",
    "    accuracy = np.sum(y_true == y_pred) / len(y_true)\n",
    "    return accuracy\n",
    "\n",
    "data = datasets.load_breast_cancer()\n",
    "X = data.data\n",
    "y = data.target\n",
    "\n",
    "X_train, X_test, y_train, y_test = train_test_split(X, y, test_size=0.2, random_state=1)\n",
    "# print(X_train.shape, X_test.shape, y_train.shape, y_test.shape)\n",
    "\n",
    "clf = RandomForest(n_trees=10, max_depth=10, max_features='sqrt')\n",
    "clf.fit(X_train, y_train)\n",
    "\n",
    "y_pred = clf.predict(X_test)\n",
    "# print(y_test.shape, y_pred.shape)\n",
    "\n",
    "acc = accuracy(y_test, y_pred)\n",
    "print(f\"Accuracy: {acc}\")"
   ]
  },
  {
   "cell_type": "markdown",
   "metadata": {},
   "source": [
    "Let us look at the confusion matrix and classification on the test set.  "
   ]
  },
  {
   "cell_type": "code",
   "execution_count": 57,
   "metadata": {},
   "outputs": [
    {
     "data": {
      "text/plain": [
       "array([[37,  5],\n",
       "       [ 1, 71]], dtype=int64)"
      ]
     },
     "execution_count": 57,
     "metadata": {},
     "output_type": "execute_result"
    }
   ],
   "source": [
    "from sklearn.metrics import confusion_matrix\n",
    "matrix = confusion_matrix(y_test, y_pred)\n",
    "matrix"
   ]
  },
  {
   "cell_type": "code",
   "execution_count": 59,
   "metadata": {},
   "outputs": [
    {
     "name": "stdout",
     "output_type": "stream",
     "text": [
      "              precision    recall  f1-score   support\n",
      "\n",
      "           0       0.97      0.88      0.93        42\n",
      "           1       0.93      0.99      0.96        72\n",
      "\n",
      "    accuracy                           0.95       114\n",
      "   macro avg       0.95      0.93      0.94       114\n",
      "weighted avg       0.95      0.95      0.95       114\n",
      "\n"
     ]
    }
   ],
   "source": [
    "from sklearn.metrics import classification_report\n",
    "print(classification_report(y_test, y_pred))"
   ]
  },
  {
   "cell_type": "markdown",
   "metadata": {},
   "source": [
    "For a more visual representation. let us see the heatmatp  "
   ]
  },
  {
   "cell_type": "code",
   "execution_count": 61,
   "metadata": {},
   "outputs": [
    {
     "data": {
      "text/plain": [
       "Text(69.0, 0.5, 'Truth')"
      ]
     },
     "execution_count": 61,
     "metadata": {},
     "output_type": "execute_result"
    },
    {
     "data": {
      "image/png": "[encoded data removed]",
      "text/plain": [
       "<Figure size 720x504 with 2 Axes>"
      ]
     },
     "metadata": {
      "needs_background": "light"
     },
     "output_type": "display_data"
    }
   ],
   "source": [
    "%matplotlib inline\n",
    "import matplotlib.pyplot as plt\n",
    "import seaborn as sns\n",
    "\n",
    "plt.figure(figsize=(10, 7))\n",
    "sns.heatmap(matrix, annot=True)\n",
    "plt.xlabel('Predicted')\n",
    "plt.ylabel('Truth')"
   ]
  }
 ],
 "metadata": {
  "kernelspec": {
   "display_name": "Python 3.9.12 ('tf')",
   "language": "python",
   "name": "python3"
  },
  "language_info": {
   "codemirror_mode": {
    "name": "ipython",
    "version": 3
   },
   "file_extension": ".py",
   "mimetype": "text/x-python",
   "name": "python",
   "nbconvert_exporter": "python",
   "pygments_lexer": "ipython3",
   "version": "3.9.12"
  },
  "orig_nbformat": 4,
  "vscode": {
   "interpreter": {
    "hash": "78ddfc3686b8b7161f2836984651df038ec9a0366954334fc42499f59ad2b3c8"
   }
  }
 },
 "nbformat": 4,
 "nbformat_minor": 2
}
