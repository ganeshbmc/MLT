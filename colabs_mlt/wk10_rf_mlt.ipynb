{
 "cells": [
  {
   "cell_type": "markdown",
   "metadata": {},
   "source": [
    "# Random Forests  \n",
    "\n",
    "Random forest is a bagging technique that trains multiple decision trees with minor modification in split criterion.  "
   ]
  },
  {
   "cell_type": "markdown",
   "metadata": {},
   "source": [
    "`Algorithm:` [video link](https://youtu.be/CJ3KQYsJPVI?t=54)  "
   ]
  },
  {
   "cell_type": "markdown",
   "metadata": {},
   "source": [
    "## Implementation  "
   ]
  },
  {
   "cell_type": "code",
   "execution_count": 1,
   "metadata": {},
   "outputs": [],
   "source": [
    "import numpy as np\n",
    "import pandas as pd\n",
    "from collections import Counter\n",
    "from sklearn.tree import DecisionTreeClassifier"
   ]
  },
  {
   "cell_type": "code",
   "execution_count": null,
   "metadata": {},
   "outputs": [],
   "source": [
    "# ?Counter"
   ]
  },
  {
   "cell_type": "markdown",
   "metadata": {},
   "source": [
    "## Bagging (Bootstrap aggregation)  "
   ]
  },
  {
   "cell_type": "code",
   "execution_count": 2,
   "metadata": {},
   "outputs": [],
   "source": [
    "def bag(X, y):\n",
    "    # Counts the number of rows in th feature matrix\n",
    "    n_samples = X.shape[0]\n",
    "\n",
    "    # Generates a random sample from the given input\n",
    "    indices = np.random.choice(n_samples, size=n_samples, replace=True, random_state=1)\n",
    "    # Note that the second argument size has been set to the size of the \n",
    "    # original sample dataset and replacement has been set to True\n",
    "\n",
    "    return X[indices], y[indices]"
   ]
  },
  {
   "cell_type": "markdown",
   "metadata": {},
   "source": [
    "## Majority voting  "
   ]
  },
  {
   "cell_type": "code",
   "execution_count": 3,
   "metadata": {},
   "outputs": [],
   "source": [
    "def most_common_label(y):\n",
    "    counter = Counter(y)\n",
    "    most_common = counter.most_common(1)[0][0]\n",
    "    return most_common"
   ]
  },
  {
   "cell_type": "markdown",
   "metadata": {},
   "source": [
    "## Random forest class  "
   ]
  },
  {
   "cell_type": "markdown",
   "metadata": {},
   "source": [
    "We create a `RandomForest` class with the following default parameters:  \n",
    "\n",
    "* number of tree = 10  \n",
    "* minimum number of samples = 2  \n",
    "* maximum depth = 100  \n",
    "\n",
    "The `max_features` is a configurable parameter that can be set by user.  "
   ]
  },
  {
   "cell_type": "code",
   "execution_count": 5,
   "metadata": {},
   "outputs": [],
   "source": [
    "class RandomForest:\n",
    "    def __init__(self, n_trees=10, min_samples_split=2, max_depth=100, max_features=None):\n",
    "        self.n_trees = n_trees  #hyperparameter for fixing the number of trees to be generated  \n",
    "        self.min_samples_split = min_samples_split      #min number of samples required for split  \n",
    "        self.max_depth = max_depth      #maximum depth of the decision tree \n",
    "        self.max_features = max_features    #maximum number of features to be considered\n",
    "        self.trees = []"
   ]
  },
  {
   "cell_type": "markdown",
   "metadata": {},
   "source": [
    "## Training random forest  "
   ]
  },
  {
   "cell_type": "code",
   "execution_count": 6,
   "metadata": {},
   "outputs": [],
   "source": [
    "def fit(self, X, y):\n",
    "    self.trees = []     # Empty array of tree which gets filled during operation  \n",
    "    for _ in range(self.n_trees):   #we are using underscore we are just repeating operations  \n",
    "        tree = DecisionTreeClassifier(  # We will now make a RF class inherit functions from sklearn\n",
    "            min_samples_split=self.min_samples_split,\n",
    "            max_depth=self.max_depth,\n",
    "            max_features = self.max_features)\n",
    "        X_sample, y_sample = bag(X, y)\n",
    "        tree.fit(X_sample, y_sample)\n",
    "        self.trees.apend(tree)      # We will append each of those trees.  "
   ]
  },
  {
   "cell_type": "markdown",
   "metadata": {},
   "source": [
    "## Inference  "
   ]
  },
  {
   "cell_type": "code",
   "execution_count": null,
   "metadata": {},
   "outputs": [],
   "source": [
    "def predict(self, X):\n",
    "    tree_predict = np.array([tree_predict(X) for tree in self.trees])   # converting a list to numpy has issues.  \n",
    "    tree_predict= np.swapaxes(tree_predict, 0, 1)   # each of the trees will give out the prediction  \n",
    "    y_pred = [most_common_label, 0, 1]\n",
    "    return np.array(y_pred)"
   ]
  },
  {
   "cell_type": "markdown",
   "metadata": {},
   "source": [
    "## Cleaned up code  "
   ]
  },
  {
   "cell_type": "markdown",
   "metadata": {},
   "source": [
    "# To be continued.............  "
   ]
  }
 ],
 "metadata": {
  "kernelspec": {
   "display_name": "Python 3.10.4 ('sklearn-env')",
   "language": "python",
   "name": "python3"
  },
  "language_info": {
   "codemirror_mode": {
    "name": "ipython",
    "version": 3
   },
   "file_extension": ".py",
   "mimetype": "text/x-python",
   "name": "python",
   "nbconvert_exporter": "python",
   "pygments_lexer": "ipython3",
   "version": "3.10.4"
  },
  "orig_nbformat": 4,
  "vscode": {
   "interpreter": {
    "hash": "35cc10d06dff50909df378e658975880e74f861b57b2a02715eced7b81e2ffbe"
   }
  }
 },
 "nbformat": 4,
 "nbformat_minor": 2
}
