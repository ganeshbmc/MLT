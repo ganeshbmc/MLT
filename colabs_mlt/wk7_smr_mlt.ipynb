{
  "cells": [
    {
      "cell_type": "markdown",
      "metadata": {
        "id": "view-in-github",
        "colab_type": "text"
      },
      "source": [
        "<a href=\"https://colab.research.google.com/github/ganeshbmc/MLT/blob/master/colabs_mlt/wk7_smr_mlt.ipynb\" target=\"_parent\"><img src=\"https://colab.research.google.com/assets/colab-badge.svg\" alt=\"Open In Colab\"/></a>"
      ]
    },
    {
      "cell_type": "markdown",
      "metadata": {
        "id": "S1lvvSqzyJ01"
      },
      "source": [
        "# Softmax regression  \n",
        "\n",
        "* Softmax regresssion is a classification method, which generalizes logistic regression.  \n",
        "* It is used for multiclass classfification problems.  \n",
        "\n",
        "[Lecture video](https://youtu.be/jQiGzIllLsk)  "
      ]
    },
    {
      "cell_type": "code",
      "execution_count": 1,
      "metadata": {
        "id": "9qsBQwWxyJ07"
      },
      "outputs": [],
      "source": [
        "import numpy as np\n",
        "from keras.datasets import mnist\n",
        "import matplotlib.pyplot as plt"
      ]
    },
    {
      "cell_type": "markdown",
      "metadata": {
        "id": "oe-egVIDyJ0_"
      },
      "source": [
        "## Training data  \n",
        "\n",
        "* MNIST handwritten digit dataset\n",
        "\n",
        "  * Feature matrix  \n",
        "  * Label (one of k labels)"
      ]
    },
    {
      "cell_type": "code",
      "execution_count": 2,
      "metadata": {
        "colab": {
          "base_uri": "https://localhost:8080/"
        },
        "id": "3YtkS3xwyJ1A",
        "outputId": "9e545de4-26b5-4798-9225-9ba8f97c2d40"
      },
      "outputs": [
        {
          "output_type": "stream",
          "name": "stdout",
          "text": [
            "Downloading data from https://storage.googleapis.com/tensorflow/tf-keras-datasets/mnist.npz\n",
            "11493376/11490434 [==============================] - 0s 0us/step\n",
            "11501568/11490434 [==============================] - 0s 0us/step\n"
          ]
        }
      ],
      "source": [
        "(train_X, train_y), (test_X, test_y) = mnist.load_data()"
      ]
    },
    {
      "cell_type": "code",
      "execution_count": 3,
      "metadata": {
        "colab": {
          "base_uri": "https://localhost:8080/",
          "height": 412
        },
        "id": "1gyPdGJoyJ1A",
        "outputId": "ab047c68-2fb1-41fa-f0f9-af8338af2a51"
      },
      "outputs": [
        {
          "output_type": "display_data",
          "data": {
            "text/plain": [
              "<Figure size 720x504 with 15 Axes>"
            ],
            "image/png": "[encoded data removed]"
          },
          "metadata": {
            "needs_background": "light"
          }
        }
      ],
      "source": [
        "# Plotting some data samples  \n",
        "fig = plt.figure(figsize=(10,7))\n",
        "for i in range(15):\n",
        "    ax = fig.add_subplot(3, 5, i+1)\n",
        "    ax.imshow(train_X[i], cmap=plt.get_cmap('gray'))\n",
        "    ax.set_title('Label (y): {y}'.format(y=train_y[i]))\n",
        "    plt.axis('off')"
      ]
    },
    {
      "cell_type": "markdown",
      "metadata": {
        "id": "kbDxZCOFyJ1B"
      },
      "source": [
        "Observe that\n",
        "* Each image is a grayscale image with size 28*28 pixels.  \n",
        "\n",
        "We flattern each input image into a vector of length 784 (28*28) and these 784 numbers represent intensity at each pixel in an image.  "
      ]
    },
    {
      "cell_type": "code",
      "execution_count": 4,
      "metadata": {
        "id": "18_6pDCXyJ1C"
      },
      "outputs": [],
      "source": [
        "X_train = train_X.reshape(train_X.shape[0], 28*28)\n",
        "X_test = test_X.reshape(test_X.shape[0], 28*28)"
      ]
    },
    {
      "cell_type": "markdown",
      "metadata": {
        "id": "eiZwBjIyyJ1D"
      },
      "source": [
        "Each pixel takes values between 0 and 255. We scale each value by dividing with 255.  "
      ]
    },
    {
      "cell_type": "code",
      "source": [
        "# Normalizing  \n",
        "X_train = X_train/255\n",
        "X_test = X_test/255"
      ],
      "metadata": {
        "id": "VINmfXG-ya2B"
      },
      "execution_count": 5,
      "outputs": []
    },
    {
      "cell_type": "markdown",
      "source": [
        "**Important step**:  \n",
        "> For softmax regression, label vector **y** needs to be represented in **one-hot encoding**.  "
      ],
      "metadata": {
        "id": "nSffbb1ay2Uu"
      }
    },
    {
      "cell_type": "code",
      "source": [
        "def convert_to_one_hot_encoding(y, k):\n",
        "  # A zero matrix of size (m,k)\n",
        "  y_one_hot = np.zeros((len(y), k))\n",
        "\n",
        "  # Putting 1 for column where the label is using multidimensional indexing.  \n",
        "  y_one_hot[np.arange(len(y), y)] = 1\n",
        "  return y_one_hot"
      ],
      "metadata": {
        "id": "T0nEPvmWyj4d"
      },
      "execution_count": 6,
      "outputs": []
    },
    {
      "cell_type": "markdown",
      "source": [
        "## Model  \n",
        "\n",
        "In the following section, the total number of classes are denoted by c.  \n",
        "[video link](https://youtu.be/jQiGzIllLsk?t=365)  "
      ],
      "metadata": {
        "id": "NT4_mh_0zs4g"
      }
    },
    {
      "cell_type": "markdown",
      "source": [
        "The softmax regression has two stages:  \n",
        "1. Linear combination (in vectorized form)  \n",
        "2. Softmax non-linear transformation (in vectorized form)  \n",
        "\n",
        "Softmax classifier provides a probability of an example belonging to a class."
      ],
      "metadata": {
        "id": "969dQ0rT0J2S"
      }
    },
    {
      "cell_type": "markdown",
      "source": [
        "## Softmax regression implementation  "
      ],
      "metadata": {
        "id": "lck1lWKb0kDW"
      }
    },
    {
      "cell_type": "markdown",
      "source": [
        "**Step 1**: In vectorized form, we implement: **Z = XW + b**  \n",
        "\n",
        "Each class has m+1 parameters, one bias and m weights corresponding to m features.  "
      ],
      "metadata": {
        "id": "iuWwqL5B0omG"
      }
    },
    {
      "cell_type": "code",
      "source": [
        "def linear_combination(X, w, b):\n",
        "  return X@w + b"
      ],
      "metadata": {
        "id": "JVnimMUa0oWp"
      },
      "execution_count": 7,
      "outputs": []
    },
    {
      "cell_type": "markdown",
      "source": [
        "**Step 2**: Calculate the softmax for each class using the above formula [video link](https://youtu.be/jQiGzIllLsk?t=560).  \n",
        "\n",
        "* The sum of softmax across all classes for a given sample is 1.  \n",
        "* The class label with the highest value of softmax is assigned to the sample.  \n",
        "\n",
        "**Note**: Every class has a different set of weights and a bias.  "
      ],
      "metadata": {
        "id": "nEU76Q2n1CNr"
      }
    },
    {
      "cell_type": "code",
      "source": [
        "def softmax(z):\n",
        "  # z --> linear part.\n",
        "  # subtracting the max of z for numerical stability.  \n",
        "  exp = np.exp(z - np.max(z))\n",
        "\n",
        "  # calulating softmax for all examples.  \n",
        "  for i in range(len(z)):\n",
        "    exp[i] /= np.sum(exp[i])\n",
        "\n",
        "  return exp"
      ],
      "metadata": {
        "id": "ySaMh5rD1B1E"
      },
      "execution_count": 8,
      "outputs": []
    },
    {
      "cell_type": "markdown",
      "source": [
        "## Loss function: categorical cross entropy loss  \n",
        "\n",
        "[video link](https://youtu.be/jQiGzIllLsk?t=639)  "
      ],
      "metadata": {
        "id": "a4Bq0uLh2JjK"
      }
    },
    {
      "cell_type": "markdown",
      "source": [
        "## Optimization  \n",
        "\n",
        "IMPORTANT: Explanation of optimization in softmax regression is explained in great detail.  \n",
        "\n",
        "[video link](https://youtu.be/jQiGzIllLsk?t=690)  "
      ],
      "metadata": {
        "id": "bB0F_tIM2f3L"
      }
    },
    {
      "cell_type": "markdown",
      "source": [
        "## Training  "
      ],
      "metadata": {
        "id": "vCjbMXk73Wrm"
      }
    },
    {
      "cell_type": "markdown",
      "source": [
        "1. Initialize parameters: `w` and `b`.\n",
        "2. Find optimal `w` and `b` using Gradient descent.\n",
        "3. Use `softmax(w.X + b)` to predict.  "
      ],
      "metadata": {
        "id": "IqhGb0LW3ZC7"
      }
    },
    {
      "cell_type": "code",
      "source": [
        "def fit(X, y, lr, c, epochs):\n",
        "  '''PENDING... TO BE CONINUED'''\n",
        "  pass"
      ],
      "metadata": {
        "id": "a847O_sVyiSh"
      },
      "execution_count": 9,
      "outputs": []
    },
    {
      "cell_type": "code",
      "source": [
        ""
      ],
      "metadata": {
        "id": "magNBXBC30d2"
      },
      "execution_count": null,
      "outputs": []
    }
  ],
  "metadata": {
    "kernelspec": {
      "display_name": "Python 3.9.7 ('base')",
      "language": "python",
      "name": "python3"
    },
    "language_info": {
      "codemirror_mode": {
        "name": "ipython",
        "version": 3
      },
      "file_extension": ".py",
      "mimetype": "text/x-python",
      "name": "python",
      "nbconvert_exporter": "python",
      "pygments_lexer": "ipython3",
      "version": "3.9.7"
    },
    "orig_nbformat": 4,
    "vscode": {
      "interpreter": {
        "hash": "a9fc4c7d055303a75ac6825ce3e810b1379669e9cb09d6b336d4c18851158a95"
      }
    },
    "colab": {
      "name": "wk7_smr_mlt.ipynb",
      "provenance": [],
      "include_colab_link": true
    }
  },
  "nbformat": 4,
  "nbformat_minor": 0
}