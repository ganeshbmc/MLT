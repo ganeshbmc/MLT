{
 "cells": [
  {
   "cell_type": "markdown",
   "metadata": {},
   "source": [
    "# Linear support vector machines classifier  "
   ]
  },
  {
   "cell_type": "code",
   "execution_count": 2,
   "metadata": {},
   "outputs": [],
   "source": [
    "import numpy as np\n",
    "import matplotlib.pyplot as plt\n",
    "import seaborn as sns\n",
    "\n",
    "from sklearn.datasets import make_classification, make_blobs\n",
    "\n",
    "# set default color map for entire notebook/session\n",
    "sns.set_theme(style='whitegrid')"
   ]
  },
  {
   "cell_type": "markdown",
   "metadata": {},
   "source": [
    "## Model  \n",
    "\n",
    "Find the best hyperplane and assign signs  "
   ]
  },
  {
   "cell_type": "markdown",
   "metadata": {},
   "source": [
    "`y = np.sign(np.dot(w, x) + b)`"
   ]
  },
  {
   "cell_type": "markdown",
   "metadata": {},
   "source": [
    "## Loss function  \n",
    "\n",
    "[Hinge loss](https://youtu.be/onOYSeX8idQ?t=152)  \n",
    "\n",
    "`max(0, 1-t)`  \n",
    "* It is equal to 0 when t >= 1.  \n",
    "* It's derivative (slope) is equal to -1 if t < 1 and 0 if t >1.  \n",
    "* It is not differentiable at t = 1.  "
   ]
  },
  {
   "cell_type": "markdown",
   "metadata": {},
   "source": [
    "## Optimization procedure  \n",
    "\n",
    "We will be using gradient descent procedure for optimization.  "
   ]
  },
  {
   "cell_type": "markdown",
   "metadata": {},
   "source": [
    "## Soft SVM implementation  "
   ]
  },
  {
   "cell_type": "code",
   "execution_count": 4,
   "metadata": {},
   "outputs": [],
   "source": [
    "class softSVM:\n",
    "    def __init__(self, C):\n",
    "        self._support_vectors = None\n",
    "        self.C = C\n",
    "        self.w = None\n",
    "        self.b = None\n",
    "        self.x = None\n",
    "        self.y = None\n",
    "\n",
    "        # n is the number of data points\n",
    "        self.n = 0\n",
    "\n",
    "        # d is the number of dimensions \n",
    "        self.d = 0\n",
    "\n",
    "    def __decision_function(self, X):\n",
    "        return X.dot(self.w) + self.b\n",
    "\n",
    "    def __cost(self, margin):\n",
    "        return (1/2) * self.w.dot(self.w) + self.C * np.sum(\n",
    "            np.maximum(0, 1- margin))\n",
    "\n",
    "    def __margin(self, X, y):\n",
    "        return y * self.__decision_function(X)\n",
    "\n",
    "    def fit(self, X, y, lr=1e-3, epochs=500):\n",
    "        # Initialize w and b\n",
    "        self.n, self.d = X.shape\n",
    "        self.w = np.random.randn(self.d)\n",
    "        self.b = 0\n",
    "\n",
    "        # Required only for plotting\n",
    "        self.X = X\n",
    "        self.y = y\n",
    "\n",
    "        loss_array = []\n",
    "        for _ in range(epochs):\n",
    "            margin = self.__margin(X, y)\n",
    "            loss = self.__cost(margin)\n",
    "            loss_array.append(loss)\n",
    "\n",
    "            misclassified_pts_idx = np.where(margin < 1)[0]\n",
    "            d_w = self.w - self.C * y[misclassified_pts_idx].dot(\n",
    "                X[misclassified_pts_idx])\n",
    "            self.w = self.w - lr * d_w\n",
    "\n",
    "            d_b = -self.C * np.sum(y[misclassified_pts_idx])\n",
    "            self.b = self.b - lr * d_b\n",
    "\n",
    "        self._support_vectors = np.where(\n",
    "            self.__margin(X, y) <= self.__margin(X, y))[0]\n",
    "\n",
    "    def predict(self, X):\n",
    "        return np.sign(self.__decision_function(X))\n",
    "\n",
    "    def score(self, X, y):\n",
    "        P = self.predictor(X)\n",
    "        return np.mean(y = P)\n",
    "\n",
    "    def plot_decision_boundary(self):\n",
    "        # To be continued....\n",
    "        pass"
   ]
  },
  {
   "cell_type": "markdown",
   "metadata": {},
   "source": [
    "[VIDEO LINK](https://youtu.be/onOYSeX8idQ?t=410)  "
   ]
  },
  {
   "cell_type": "markdown",
   "metadata": {},
   "source": []
  }
 ],
 "metadata": {
  "kernelspec": {
   "display_name": "Python 3.10.4 ('sklearn-env')",
   "language": "python",
   "name": "python3"
  },
  "language_info": {
   "codemirror_mode": {
    "name": "ipython",
    "version": 3
   },
   "file_extension": ".py",
   "mimetype": "text/x-python",
   "name": "python",
   "nbconvert_exporter": "python",
   "pygments_lexer": "ipython3",
   "version": "3.10.4"
  },
  "orig_nbformat": 4,
  "vscode": {
   "interpreter": {
    "hash": "35cc10d06dff50909df378e658975880e74f861b57b2a02715eced7b81e2ffbe"
   }
  }
 },
 "nbformat": 4,
 "nbformat_minor": 2
}
