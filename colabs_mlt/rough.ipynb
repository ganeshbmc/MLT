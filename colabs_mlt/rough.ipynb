{
 "cells": [
  {
   "cell_type": "code",
   "execution_count": 13,
   "metadata": {},
   "outputs": [
    {
     "name": "stdout",
     "output_type": "stream",
     "text": [
      "[1, 1, 1, 2, 2, 3, 3, 3, 3, 4, 5, 5, 5, 5]\n",
      "ModeResult(mode=array([3]), count=array([4]))\n"
     ]
    }
   ],
   "source": [
    "from scipy.stats import mode\n",
    "\n",
    "y = [5,5,5,5,1,1,1,2,2,3,3,3,3,4]\n",
    "y = sorted(y)\n",
    "print(y)\n",
    "print(mode(y))"
   ]
  },
  {
   "cell_type": "code",
   "execution_count": 30,
   "metadata": {},
   "outputs": [],
   "source": [
    "import numpy as np\n",
    "from scipy.stats import mode\n",
    "def predict_class(y):\n",
    "    # np.sort(y)\n",
    "    # return mode(y)[0]\n",
    "    label = 111\n",
    "    class_count = -1\n",
    "    for i in range(9, -1, -1):\n",
    "        count = np.count_nonzero(y==i)\n",
    "        print(f\"{i}:{count}\")\n",
    "        if count >= class_count:\n",
    "            class_count = count\n",
    "            label = i\n",
    "    # print(i)\n",
    "    return label"
   ]
  },
  {
   "cell_type": "code",
   "execution_count": 74,
   "metadata": {},
   "outputs": [],
   "source": [
    "y = np.array([5,5,5,1,1,1,2,2,3,3,3,3,0,0,4,6,6,6,6,6])"
   ]
  },
  {
   "cell_type": "code",
   "execution_count": 75,
   "metadata": {},
   "outputs": [
    {
     "data": {
      "text/plain": [
       "(array([0, 1, 2, 3, 4, 5, 6]), array([2, 3, 2, 4, 1, 3, 5], dtype=int64))"
      ]
     },
     "execution_count": 75,
     "metadata": {},
     "output_type": "execute_result"
    }
   ],
   "source": [
    "a, b = np.unique(y, return_counts=True)\n",
    "a, b"
   ]
  },
  {
   "cell_type": "code",
   "execution_count": 76,
   "metadata": {},
   "outputs": [
    {
     "data": {
      "text/plain": [
       "6"
      ]
     },
     "execution_count": 76,
     "metadata": {},
     "output_type": "execute_result"
    }
   ],
   "source": [
    "a[np.argmax(b)]"
   ]
  },
  {
   "cell_type": "code",
   "execution_count": 77,
   "metadata": {},
   "outputs": [
    {
     "name": "stdout",
     "output_type": "stream",
     "text": [
      "9:0\n",
      "8:0\n",
      "7:0\n",
      "6:5\n",
      "5:3\n",
      "4:1\n",
      "3:4\n",
      "2:2\n",
      "1:3\n",
      "0:2\n"
     ]
    },
    {
     "data": {
      "text/plain": [
       "6"
      ]
     },
     "execution_count": 77,
     "metadata": {},
     "output_type": "execute_result"
    }
   ],
   "source": [
    "predict_class(y)"
   ]
  },
  {
   "cell_type": "code",
   "execution_count": null,
   "metadata": {},
   "outputs": [],
   "source": [
    "[0 1 2 3 4 5 6 7 8 9] [ 17  17 734   8  49  27  69   8  58  13]\\n\n"
   ]
  },
  {
   "cell_type": "code",
   "execution_count": null,
   "metadata": {},
   "outputs": [],
   "source": [
    "{'1': 8, '2': 2, '3': 90, '4': 5}\\n\n"
   ]
  }
 ],
 "metadata": {
  "kernelspec": {
   "display_name": "Python 3.9.7 64-bit (system)",
   "language": "python",
   "name": "python3"
  },
  "language_info": {
   "codemirror_mode": {
    "name": "ipython",
    "version": 3
   },
   "file_extension": ".py",
   "mimetype": "text/x-python",
   "name": "python",
   "nbconvert_exporter": "python",
   "pygments_lexer": "ipython3",
   "version": "3.9.7"
  },
  "orig_nbformat": 4,
  "vscode": {
   "interpreter": {
    "hash": "d8d268999435ed29d8bef8ffeeebb384179ebf9491a8b848a9fa72e41c1c6c58"
   }
  }
 },
 "nbformat": 4,
 "nbformat_minor": 2
}
