{
 "cells": [
  {
   "cell_type": "markdown",
   "metadata": {},
   "source": [
    "# Artificial Neural Networks  "
   ]
  },
  {
   "cell_type": "markdown",
   "metadata": {},
   "source": [
    "**Import libraries**  "
   ]
  },
  {
   "cell_type": "code",
   "execution_count": 71,
   "metadata": {},
   "outputs": [],
   "source": [
    "import numpy as np\n",
    "seed = 42\n",
    "rng = np.random.default_rng(seed=seed)"
   ]
  },
  {
   "cell_type": "markdown",
   "metadata": {},
   "source": [
    "## Network Class  "
   ]
  },
  {
   "cell_type": "markdown",
   "metadata": {},
   "source": [
    "We shall start writing the `Network Class`. The two methods that are indispensible for any ML class are:  \n",
    "\n",
    "* `fit`  \n",
    "* `predict`  \n",
    "\n",
    "Fitting a neural network model requires us to compute two passes on the data:  \n",
    "\n",
    "* `forward`  \n",
    "* `backward`  \n",
    "\n",
    "We need to start at some place by initializing the network and various hyperparameters and this requires an `init` method:  \n",
    "\n",
    "* `init`  \n",
    "\n",
    "In most of these methods, we would have to take help of certain `helper` functions:  \n",
    "\n",
    "* `activations`  \n",
    "* `losses`  \n",
    "\n",
    "This is the process but we will work through it in reverse order so that each step of the process does not have any forward references:  \n",
    "\n",
    "* `helpers` --> `init` --> `forward` --> `backward` --> `fit` --> `predict`  \n",
    "\n",
    "The skeleton of the class is given in the code block below. For ease of exposition, we are going to discuss the methods one at a time and then plug them into the class right at the end.  "
   ]
  },
  {
   "cell_type": "markdown",
   "metadata": {},
   "source": [
    "### Skeleton of Network Class  "
   ]
  },
  {
   "cell_type": "code",
   "execution_count": 72,
   "metadata": {},
   "outputs": [],
   "source": [
    "class Network:\n",
    "\n",
    "    def init(self, layers, activation_choice = 'relu',\n",
    "                        output_choice = 'softmax',\n",
    "                        loss_choice = 'cce'):\n",
    "        pass\n",
    "\n",
    "    def forward(self, X):\n",
    "        pass\n",
    "\n",
    "    def backward(self, Y, Y_hat):\n",
    "        pass\n",
    "\n",
    "    def fit(self, X, lr = 0.01,\n",
    "                    epochs = 100,\n",
    "                    batch_size = 100):\n",
    "        pass\n",
    "\n",
    "    def predict(self, X):\n",
    "        pass"
   ]
  },
  {
   "cell_type": "markdown",
   "metadata": {},
   "source": [
    "## Activation functions  "
   ]
  },
  {
   "cell_type": "markdown",
   "metadata": {},
   "source": [
    "Hidden layer  \n",
    "\n",
    "We will look at two activation functions for the hidden layers. Both these functions will be applied element-wise. The input to these functions can be scalars, vectors or matrices.  \n",
    "\n",
    "* `Sigmoid`  \n",
    "* `ReLU`  \n",
    "\n",
    "We also need the derivatives of these functions while computing the backward pass. Deriving the mathematical expressions for them are left as an exercise to the learners.  "
   ]
  },
  {
   "cell_type": "code",
   "execution_count": 73,
   "metadata": {},
   "outputs": [],
   "source": [
    "def sigmoid(z):\n",
    "    return 1 / (1 + np.exp(-z))\n",
    "\n",
    "def grad_sigmoid(z):\n",
    "    return sigmoid(z) * (1 - sigmoid(z))\n",
    "\n",
    "def relu(z):\n",
    "    return np.where(z >= 0, z, 0)\n",
    "\n",
    "def grad_relu(z):\n",
    "    return np.where(z >= 0, 1, 0)\n",
    "\n",
    "# A dictionary of activation functions will be used while initializing the network  \n",
    "hidden_act = {'sigmoid': sigmoid, 'relu': relu}\n",
    "grad_hidden_act = {'sigmoid': grad_sigmoid, 'relu': grad_relu}"
   ]
  },
  {
   "cell_type": "markdown",
   "metadata": {},
   "source": [
    "## Output layer  "
   ]
  },
  {
   "cell_type": "markdown",
   "metadata": {},
   "source": [
    "We will look at the two activation functions for the output layer.  \n",
    "\n",
    "* `Identity` for regression  \n",
    "* `Softmax` for classification  \n",
    "\n",
    "**Note**: In softmax, to avoid overflow, we will subtract the row-wise maximum from each row while computing the softmax.  "
   ]
  },
  {
   "cell_type": "code",
   "execution_count": 74,
   "metadata": {},
   "outputs": [],
   "source": [
    "def identity(z):\n",
    "    return z\n",
    "\n",
    "def softmax(z):\n",
    "    '''Row-wise softmax'''\n",
    "    # Check if z is a matrix\n",
    "    assert z.ndim == 2\n",
    "    \n",
    "    # To prevent overflow, subtract softmax row-wise\n",
    "    z -= z.max(axis=1, keepdims=True)\n",
    "\n",
    "    # Compute row-wise softmax\n",
    "    prob = np.exp(z) / np.exp(z).sum(axis=1, keepdims=True)\n",
    "\n",
    "    # Check if the row probability is a probability distribution\n",
    "    assert np.allclose(prob.sum(axis=1), np.ones(z.shape[0]))\n",
    "    return prob\n",
    "\n",
    "output_act = {'softmax': softmax, 'identity': identity}"
   ]
  },
  {
   "cell_type": "markdown",
   "metadata": {},
   "source": [
    "## Loss  "
   ]
  },
  {
   "cell_type": "markdown",
   "metadata": {},
   "source": [
    "There are two types of losses we will use:  \n",
    "\n",
    "* `Least square error` for regression  \n",
    "* `Categorical cross-entropy` loss for classification  \n",
    "\n",
    "[video link](https://youtu.be/q1GTG13OgNY?t=345)  "
   ]
  },
  {
   "cell_type": "code",
   "execution_count": 75,
   "metadata": {},
   "outputs": [],
   "source": [
    "def least_square(y, y_hat):\n",
    "    return 0.5 * np.sum((y_hat - y) * (y_hat - y))\n",
    "    # e = y_hat - y\n",
    "    # return (e.T @ e)\n",
    "\n",
    "def cce(Y, Y_hat):      # Note that capital Y is used to denote that Y is a matrix with shape n*k\n",
    "    return -np.sum(Y * np.log(Y_hat))\n",
    "\n",
    "losses = {'least_square': least_square, 'cce': cce}"
   ]
  },
  {
   "cell_type": "markdown",
   "metadata": {},
   "source": [
    "## Initialization  "
   ]
  },
  {
   "cell_type": "markdown",
   "metadata": {},
   "source": [
    "Here, we will look at two parts:  \n",
    "\n",
    "* Network architecture  \n",
    "* Weight initialization  \n",
    "\n",
    "`Network architecture`  \n",
    "\n",
    "The following components mainly determine the structure of the network:  \n",
    "* number of layers  \n",
    "* number of neurons per layer  \n",
    "\n",
    "We will use `l` to index the layers. The network has `L` layers in all.  \n",
    "\n",
    "* `l = 0`: Input layer  \n",
    "* `1 <= l <= L -1`: Hidden layers  \n",
    "* `l = L`: Output layer  \n",
    "\n",
    "We shall represent the number of layers and the neurons using a list `layers`. The variable L will never make an explicit appearance anywhere, instead we will use `range(len(layers))` to iterate through the layers.  \n",
    "\n",
    "One useful task is to compute the total number of parameters in the network. This will come in handy later on.  "
   ]
  },
  {
   "cell_type": "code",
   "execution_count": 76,
   "metadata": {},
   "outputs": [],
   "source": [
    "def count_params(layers):\n",
    "    num_params = 0\n",
    "    for l in range(1, len(layers)):\n",
    "        num_weights = layers[l-1] * layers[l]\n",
    "        num_biases = layers[l]\n",
    "        num_params += (num_weights + num_biases)\n",
    "    return num_params\n",
    "\n",
    "# Test count_params  \n",
    "assert count_params([64, 5, 10]) == (64 * 5 + 5) + (5 * 10 + 10)"
   ]
  },
  {
   "cell_type": "markdown",
   "metadata": {},
   "source": [
    "`Parameter initialization`  \n",
    "\n",
    "The weight-matrix at layer `l` has size `layers[l-1] * layers[l]`. The bias at layer `l` is a vector of size `layers[l]`. We will store all these weights in a list `w` of the same size as `layers`. `W[l]` would correspond to `Wl`. Since there are `L` weight matrices, `w[0]` would be set to `None`. Recall that the size of the list is `L + 1`. A similar list would be required for `b`.  \n",
    "\n",
    "To mke the gradient descent update simpler, it will be useful to have a master vector, `θ`, that has a **reference** to all the parameters in the network. We will do the same for the gradients `θ(g)`. So, whenever `θ` is updated, the weights `Wl` will also be updated and vice-versa.  \n",
    "\n",
    "One way to do this is to first start with the master vector and then reshape chunks of it into the dimensions of a weight matrix. Reshaping an array usually returns a view of an array and not a copy. To understand this function better, refer to NumPy's documentation on [**Copies and Views**](https://numpy.org/doc/stable/user/basics.copies.html).  "
   ]
  },
  {
   "cell_type": "code",
   "execution_count": 77,
   "metadata": {},
   "outputs": [],
   "source": [
    "def init_params(layers):\n",
    "    num_params = count_params(layers)               # number of parameters in the network\n",
    "\n",
    "    W = [None for _ in range(len(layers))]          # weights\n",
    "    b = [None for _ in range(len(layers))]          # biases\n",
    "    gW = [None for _ in range(len(layers))]         # gradient of loss w.r.t weights\n",
    "    gb = [None for _ in range(len(layers))]         # gradient of loss w.r.t biases\n",
    "\n",
    "    # Sample from N(0,1) to initialize the params\n",
    "    theta = rng.standard_normal(num_params)         # master params\n",
    "    gtheta = np.zeros(num_params)                   # master gradients\n",
    "\n",
    "    # (start, end) specify the portion of the theta\n",
    "    # that corresponds to the parameter, W_l or b_l\n",
    "    start, end = 0, 0\n",
    "    for l in range(1, len(layers)):\n",
    "        # Reshape the section (start, end) and assign it to W[l]\n",
    "        end = start + layers[l-1] * layers[l]\n",
    "        W[l] = theta[start: end].reshape(layers[l-1], layers[l])\n",
    "        gW[l] = gtheta[start: end].reshape(layers[l-1], layers[l])\n",
    "        # Reshape the section (start, end) and assign it to b[l]\n",
    "        start, end = end, end + layers[l]\n",
    "        b[l] = theta[start: end].reshape(layers[l])\n",
    "        gb[l] = gtheta[start: end].reshape(layers[l])\n",
    "        start = end\n",
    "\n",
    "    return theta, gtheta, W, b, gW, gb\n",
    "\n",
    "### Test init_params\n",
    "layers = [64, 32, 10]\n",
    "params = init_params([64, 32, 10])\n",
    "for l in range(1, len(layers)):\n",
    "    # check if the weights are views of the master vector\n",
    "    assert params[2][l].base is params[0]\n",
    "    assert params[3][l].base is params[0]\n",
    "    assert params[4][l].base is params[1]\n",
    "    assert params[5][l].base is params[1]"
   ]
  },
  {
   "cell_type": "markdown",
   "metadata": {},
   "source": [
    "We are now ready to initialize the network.  "
   ]
  },
  {
   "cell_type": "code",
   "execution_count": 78,
   "metadata": {},
   "outputs": [],
   "source": [
    "def init(self, layers, activation_choice='relu',\n",
    "                        output_choice='softmax',\n",
    "                        loss_choice = 'cce'):\n",
    "    self.layers = layers\n",
    "\n",
    "    # Parameters and gradients\n",
    "    self.theta, self.gtheta,\\\n",
    "    self.W, self.b,\\\n",
    "    self.gW, self.gb = init_params(layers)\n",
    "\n",
    "    # Activation functions\n",
    "    self.ghid = hidden_act[activation_choice]\n",
    "    self.grad_ghid = grad_hidden_act[activation_choice]\n",
    "    self.gout = output_act[output_choice]\n",
    "\n",
    "    # Loss  \n",
    "    self.loss = losses[loss_choice]"
   ]
  },
  {
   "cell_type": "markdown",
   "metadata": {},
   "source": [
    "## Forward pass  \n",
    "\n",
    "[video link](https://youtu.be/q1GTG13OgNY?t=929)  "
   ]
  },
  {
   "cell_type": "code",
   "execution_count": 79,
   "metadata": {},
   "outputs": [],
   "source": [
    "def forward(self, X):\n",
    "    self.Z = [None for _ in range(len(self.layers))]\n",
    "    self.A = [None for _ in range(len(self.layers))]\n",
    "    self.A[0] = X\n",
    "    self.Z[0] = X\n",
    "\n",
    "    for l in range(1, len(self.layers)):\n",
    "        self.Z[l] = self.A[l-1] @ self.W[l] + self.b[l]\n",
    "        self.A[l] = self.ghid(self.Z[l])\n",
    "\n",
    "    self.A[-1] = self.gout(self.Z[-1])\n",
    "    return self.A[-1]"
   ]
  },
  {
   "cell_type": "markdown",
   "metadata": {},
   "source": [
    "## Backward pass  \n",
    "\n",
    "[video link](https://youtu.be/q1GTG13OgNY?t=980)  "
   ]
  },
  {
   "cell_type": "code",
   "execution_count": 80,
   "metadata": {},
   "outputs": [],
   "source": [
    "def backward(self, Y, Y_hat):\n",
    "    gZ = [None for _ in range(len(self.layers))]\n",
    "    gA = [None for _ in range(len(self.layers))]\n",
    "    gZ[-1] = Y_hat - Y\n",
    "\n",
    "    for l in range(len(self.layers) - 1, 0, -1):\n",
    "        self.gW[l][:, :] = self.A[l-1].T @ gZ[l]\n",
    "        self.gb[l][:] = np.sum(gZ[l].T, axis = 1)\n",
    "        gA[l-1] = gZ[l] @ self.W[l].T\n",
    "        gZ[l-1] = gA[l-1] * self.grad_ghid(self.Z[l-1])"
   ]
  },
  {
   "cell_type": "markdown",
   "metadata": {},
   "source": [
    "An important point to note is the use of `self.gW[l][:, :]` while updating the weights and not `self.gW[l]`.  \n",
    "`self.gW[l][:, :]` does in-place update, thus maintaining a link with master params, namely `self.theta`.  "
   ]
  },
  {
   "cell_type": "markdown",
   "metadata": {},
   "source": [
    "## Fit  \n",
    "\n",
    "We now have all the ingredients to fit a model using gradient descent. We will use mini-batch gradient descent. The batch-size, learning rate and number of epochs will be hyperparameters.  "
   ]
  },
  {
   "cell_type": "code",
   "execution_count": 81,
   "metadata": {},
   "outputs": [],
   "source": [
    "def fit(self, X, Y, lr = 0.01,\n",
    "                    epochs = 100,\n",
    "                    batch_size = 100):\n",
    "    self.losses = []\n",
    "\n",
    "    for epoch in range(epochs):\n",
    "        # Compute the loss \n",
    "        Y_hat = self.forward(X)\n",
    "        self.losses.append(self.loss(Y, Y_hat))\n",
    "        # Shuffle the dataset\n",
    "        indices = np.arange(X.shape[0])\n",
    "        # Use rng.shuffle to maintain reproducibility\n",
    "        rng.shuffle(indices)\n",
    "        X, Y = X[indices], Y[indices]\n",
    "        # Number of batches\n",
    "        num_batches = X.shape[0] // batch_size\n",
    "        # Mini-batch GD\n",
    "        for b in range(num_batches):\n",
    "            Xb = X[b * batch_size: (b + 1) * batch_size]\n",
    "            Yb = Y[b * batch_size: (b + 1) * batch_size]\n",
    "            # Compute the predictions for this batch\n",
    "            Y_hat_b = self.forward(Xb)\n",
    "            # Compute the gradients for this batch\n",
    "            self.backward(Yb, Y_hat_b)\n",
    "            # Update the gradients of all parameters\n",
    "            # -= is used for in-place update\n",
    "            self.theta -= lr * self.gtheta"
   ]
  },
  {
   "cell_type": "markdown",
   "metadata": {},
   "source": [
    "## Predict  \n",
    "\n",
    "Finally, we can use the trained model to predict the labels.  "
   ]
  },
  {
   "cell_type": "code",
   "execution_count": 82,
   "metadata": {},
   "outputs": [],
   "source": [
    "def predict(self, X):\n",
    "    Y_hat = self.forward(X)\n",
    "    # regression\n",
    "    if X.shape[-1] == 1:\n",
    "        return Y_hat\n",
    "    # classification\n",
    "    else:\n",
    "        return np.argmax(Y_hat, axis = 1)"
   ]
  },
  {
   "cell_type": "markdown",
   "metadata": {},
   "source": [
    "## Plugging in  \n",
    "\n",
    "We can now plug all of this into our class.  "
   ]
  },
  {
   "cell_type": "code",
   "execution_count": 83,
   "metadata": {},
   "outputs": [],
   "source": [
    "Network.__init__ = init\n",
    "Network.forward = forward\n",
    "Network.backward = backward\n",
    "Network.fit = fit\n",
    "Network.predict = predict"
   ]
  },
  {
   "cell_type": "markdown",
   "metadata": {},
   "source": [
    "## Data  \n",
    "\n",
    "We will import the digits dataset from `sklearn`.  "
   ]
  },
  {
   "cell_type": "code",
   "execution_count": 84,
   "metadata": {},
   "outputs": [
    {
     "name": "stdout",
     "output_type": "stream",
     "text": [
      "Sample image with label 0\n",
      "(1797, 8, 8)\n"
     ]
    },
    {
     "data": {
      "image/png": "[encoded data removed]",
      "text/plain": [
       "<Figure size 432x288 with 1 Axes>"
      ]
     },
     "metadata": {
      "needs_background": "light"
     },
     "output_type": "display_data"
    }
   ],
   "source": [
    "import matplotlib.pyplot as plt\n",
    "from sklearn.datasets import load_digits\n",
    "digits = load_digits()\n",
    "\n",
    "X = digits.images\n",
    "# Normalize the data so that all features lie in (0, 1)\n",
    "X /= np.max(X)\n",
    "y = digits.target\n",
    "plt.imshow(X[0])\n",
    "print(f\"Sample image with label {y[0]}\")\n",
    "print(X.shape)\n",
    "\n",
    "# Reshape input\n",
    "X = X.reshape(-1, 64)\n",
    "# Input size\n",
    "isize = X.shape[-1]\n",
    "# Output size\n",
    "osize = len(np.unique(y))"
   ]
  },
  {
   "cell_type": "code",
   "execution_count": 85,
   "metadata": {},
   "outputs": [],
   "source": [
    "def onehot_encoder(y):\n",
    "    k = len(np.unique(y))\n",
    "    return np.eye(k)[y]"
   ]
  },
  {
   "cell_type": "code",
   "execution_count": 86,
   "metadata": {},
   "outputs": [
    {
     "name": "stdout",
     "output_type": "stream",
     "text": [
      "Training data shape: ((1078, 64), (1078, 10))\n",
      "Test data shape: ((719, 64), (719, 10))\n"
     ]
    }
   ],
   "source": [
    "from sklearn.model_selection import train_test_split\n",
    "# random_state has the same seed value as rng\n",
    "X_train, X_test, y_train, y_test = train_test_split(X, y,\n",
    "                                                    test_size=0.4,\n",
    "                                                    random_state=seed)\n",
    "Y_train = onehot_encoder(y_train)\n",
    "Y_test = onehot_encoder(y_test)\n",
    "print(f\"Training data shape: {X_train.shape, Y_train.shape}\")\n",
    "print(f\"Test data shape: {X_test.shape, Y_test.shape}\")"
   ]
  },
  {
   "cell_type": "markdown",
   "metadata": {},
   "source": [
    "### Fit  "
   ]
  },
  {
   "cell_type": "code",
   "execution_count": 87,
   "metadata": {},
   "outputs": [
    {
     "name": "stdout",
     "output_type": "stream",
     "text": [
      "Test-data size = 719\n",
      "Accuracy = 96.24\n",
      "Number of parameters = 2410\n"
     ]
    },
    {
     "data": {
      "image/png": "[encoded data removed]",
      "text/plain": [
       "<Figure size 576x576 with 1 Axes>"
      ]
     },
     "metadata": {
      "needs_background": "light"
     },
     "output_type": "display_data"
    }
   ],
   "source": [
    "# Initialize the network\n",
    "layers = [isize, 32, osize]\n",
    "network = Network(layers, activation_choice='sigmoid',\n",
    "                            output_choice='softmax',\n",
    "                            loss_choice='cce')\n",
    "# Fit the network on the data\n",
    "epochs = 50\n",
    "network.fit(X_train, Y_train, lr=0.01, epochs=epochs, batch_size=10)\n",
    "\n",
    "# Plot the losses\n",
    "plt.figure(figsize=(8,8))\n",
    "plt.plot(range(epochs), network.losses)\n",
    "plt.title(f\"Loss vs Epochs\")\n",
    "plt.xlabel(f\"Epochs\")\n",
    "plt.ylabel(f\"CCE Loss\")\n",
    "\n",
    "# Compute the accuracy\n",
    "accuracy = np.sum(network.predict(X_test) == y_test) / X_test.shape[0] * 100\n",
    "print(f\"Test-data size = {X_test.shape[0]}\")\n",
    "print(f\"Accuracy = {accuracy:.2f}\")\n",
    "print(f\"Number of parameters = {count_params(layers)}\")"
   ]
  }
 ],
 "metadata": {
  "kernelspec": {
   "display_name": "Python 3.10.4 64-bit",
   "language": "python",
   "name": "python3"
  },
  "language_info": {
   "codemirror_mode": {
    "name": "ipython",
    "version": 3
   },
   "file_extension": ".py",
   "mimetype": "text/x-python",
   "name": "python",
   "nbconvert_exporter": "python",
   "pygments_lexer": "ipython3",
   "version": "3.10.4"
  },
  "orig_nbformat": 4,
  "vscode": {
   "interpreter": {
    "hash": "916dbcbb3f70747c44a77c7bcd40155683ae19c65e1c03b4aa3499c5328201f1"
   }
  }
 },
 "nbformat": 4,
 "nbformat_minor": 2
}
