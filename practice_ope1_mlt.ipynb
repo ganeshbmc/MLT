{
 "cells": [
  {
   "cell_type": "markdown",
   "metadata": {},
   "source": [
    "# Week 3  "
   ]
  },
  {
   "cell_type": "markdown",
   "metadata": {},
   "source": [
    "`PPA1`   "
   ]
  },
  {
   "cell_type": "code",
   "execution_count": 1,
   "metadata": {},
   "outputs": [],
   "source": [
    "import numpy as np\n",
    "import random\n",
    "import itertools\n",
    "import functools"
   ]
  },
  {
   "cell_type": "code",
   "execution_count": 4,
   "metadata": {},
   "outputs": [],
   "source": [
    "def get_combinations(x, degree):\n",
    "    return itertools.combinations_with_replacement(x, degree)\n",
    "\n",
    "def compute_new_features(items):\n",
    "    return functools.reduce(lambda x, y: x*y, items)\n",
    "\n",
    "def polynomial_transform(x, degree):\n",
    "    if x.ndim == 1:\n",
    "        x = x[:, None]\n",
    "    \n",
    "    x_t = np.transpose(x)\n",
    "    features = [np.ones(len(x))]\n",
    "\n",
    "    for deg in range(1, degree+1):\n",
    "        for items in get_combinations(x_t, degree):\n",
    "            features.append(compute_new_features(items))\n",
    "\n",
    "    polynomial_feature_matrix = np.asarray(features).transpose()\n",
    "    return polynomial_feature_matrix"
   ]
  },
  {
   "cell_type": "markdown",
   "metadata": {},
   "source": [
    "`PPA2`  "
   ]
  },
  {
   "cell_type": "code",
   "execution_count": 6,
   "metadata": {},
   "outputs": [],
   "source": [
    "def ridge_loss(X, w, y, lr):\n",
    "    X = np.column_stack((np.ones(X.shape[0]), X))\n",
    "    e = (X @ w) - y\n",
    "    loss = (1/2) * (e.T @ e)  + (lr/2) * (w.T @ w)\n",
    "    return loss\n",
    "\n",
    "# Remember to check compatibility between X, w and y, if needed.  "
   ]
  },
  {
   "cell_type": "markdown",
   "metadata": {},
   "source": [
    "`GrPA1`  "
   ]
  },
  {
   "cell_type": "markdown",
   "metadata": {},
   "source": [
    "Use the function `polynomial_transform` along with it's two helper functions defined in `PPA1`.  "
   ]
  },
  {
   "cell_type": "code",
   "execution_count": 8,
   "metadata": {},
   "outputs": [],
   "source": [
    "def model_error(X, y, degree):\n",
    "    X_poly = polynomial_transform(X, degree)\n",
    "    w = np.linalg.pinv(X_poly) @ y\n",
    "    e = (X @ w) - y\n",
    "    mse = np.mean((e.T @ e))\n",
    "    rmse = np.sqrt(mse)\n",
    "    return rmse"
   ]
  },
  {
   "cell_type": "markdown",
   "metadata": {},
   "source": [
    "`GrPA2`  "
   ]
  },
  {
   "cell_type": "code",
   "execution_count": 9,
   "metadata": {},
   "outputs": [],
   "source": [
    "def additional_vector(X):\n",
    "    n = X.shape[0]\n",
    "    weird_col = np.ndarray([0 if i%2 == 0 else 1 for i in range(n)])\n",
    "    return np.column_stack((X, weird_col))"
   ]
  },
  {
   "cell_type": "markdown",
   "metadata": {},
   "source": [
    "`GrPA3`  "
   ]
  },
  {
   "cell_type": "code",
   "execution_count": 11,
   "metadata": {},
   "outputs": [],
   "source": [
    "import numpy as np\n",
    "import random\n",
    "def mean_abs(X, y, w):\n",
    "    y_hat = X @ w\n",
    "    return np.mean(np.abs((y - y_hat)))\n",
    "\n",
    "# Remember to check compatibility between X, w and y, if needed.  "
   ]
  },
  {
   "cell_type": "code",
   "execution_count": 12,
   "metadata": {},
   "outputs": [],
   "source": [
    "import numpy as np\n",
    "import random\n",
    "def mean_abs(X,y,w):\n",
    "  e = ((X @ w) - y)\n",
    "  return sum([abs(i) for i in e]) / (len(e))\n",
    "\n",
    "# Remember to check compatibility between X, w and y, if needed.  "
   ]
  },
  {
   "cell_type": "markdown",
   "metadata": {},
   "source": [
    "# Week 4  "
   ]
  },
  {
   "cell_type": "markdown",
   "metadata": {},
   "source": [
    "`PPA`  \n",
    "pending"
   ]
  },
  {
   "cell_type": "markdown",
   "metadata": {},
   "source": [
    "`GrPA1`  "
   ]
  },
  {
   "cell_type": "code",
   "execution_count": 13,
   "metadata": {},
   "outputs": [],
   "source": [
    "import numpy as np\n",
    "def OneHotEncode(y):\n",
    "    k = np.max(y) + 1\n",
    "    M = np.eye(k)\n",
    "    return M[y]"
   ]
  },
  {
   "cell_type": "code",
   "execution_count": 14,
   "metadata": {},
   "outputs": [
    {
     "data": {
      "text/plain": [
       "array([[[1., 0., 0., 0.],\n",
       "        [0., 0., 1., 0.],\n",
       "        [0., 1., 0., 0.],\n",
       "        [0., 0., 0., 1.],\n",
       "        [0., 0., 0., 1.],\n",
       "        [0., 0., 1., 0.],\n",
       "        [0., 1., 0., 0.],\n",
       "        [1., 0., 0., 0.],\n",
       "        [0., 1., 0., 0.],\n",
       "        [0., 0., 1., 0.]]])"
      ]
     },
     "execution_count": 14,
     "metadata": {},
     "output_type": "execute_result"
    }
   ],
   "source": [
    "y = np.array([[0, 2, 1, 3, 3, 2, 1, 0, 1, 2]])\n",
    "OneHotEncode(y)"
   ]
  },
  {
   "cell_type": "code",
   "execution_count": 20,
   "metadata": {},
   "outputs": [
    {
     "data": {
      "text/plain": [
       "array([[1., 0., 0., 0.],\n",
       "       [0., 1., 0., 0.],\n",
       "       [0., 0., 1., 0.],\n",
       "       [0., 0., 0., 1.]])"
      ]
     },
     "execution_count": 20,
     "metadata": {},
     "output_type": "execute_result"
    }
   ],
   "source": [
    "k = np.max(y) + 1\n",
    "np.eye(k)"
   ]
  },
  {
   "cell_type": "code",
   "execution_count": 23,
   "metadata": {},
   "outputs": [
    {
     "data": {
      "text/plain": [
       "array([[[0., 0., 0., 1.],\n",
       "        [0., 0., 1., 0.],\n",
       "        [0., 1., 0., 0.]]])"
      ]
     },
     "execution_count": 23,
     "metadata": {},
     "output_type": "execute_result"
    }
   ],
   "source": [
    "z = np.array([[3,2,1]])\n",
    "np.eye(k)[z]"
   ]
  },
  {
   "cell_type": "markdown",
   "metadata": {},
   "source": [
    "`GrPA2`  "
   ]
  },
  {
   "cell_type": "code",
   "execution_count": 24,
   "metadata": {},
   "outputs": [],
   "source": [
    "import numpy as np\n",
    "def update(x, w, y, epochs):\n",
    "    hist = []\n",
    "    wi = np.zeros(x.shape[1])\n",
    "    hist.append(wi)\n",
    "    wi = w\n",
    "    for i in range(epochs):\n",
    "        for xi, yi in zip(x, y):\n",
    "            y_hat = np.where((xi@wi) >= 0, 1, -1)\n",
    "            wi = wi + 1 * (yi - y_hat) * xi\n",
    "        hist.append(wi)\n",
    "\n",
    "    return hist"
   ]
  },
  {
   "cell_type": "markdown",
   "metadata": {},
   "source": [
    "`GrPA3`  "
   ]
  },
  {
   "cell_type": "code",
   "execution_count": null,
   "metadata": {},
   "outputs": [],
   "source": [
    "import numpy as np\n",
    "def is_linearly_separable(X, y):\n",
    "    e = []\n",
    "    w = np.zeros(X.shape[1])\n",
    "    for i in range(10):\n",
    "        err = 0\n",
    "        for xi, yi in zip(X, y):\n",
    "            y_hat = np.where((xi@w) >= 0, 1, -1)\n",
    "            w += (yi - y_hat) * xi\n",
    "            err += max(0, -1*(xi@w)*yi)\n",
    "        e.append(err)\n",
    "    if e[-1] == 0:\n",
    "        return True\n",
    "    return False"
   ]
  }
 ],
 "metadata": {
  "kernelspec": {
   "display_name": "Python 3.10.4 64-bit",
   "language": "python",
   "name": "python3"
  },
  "language_info": {
   "codemirror_mode": {
    "name": "ipython",
    "version": 3
   },
   "file_extension": ".py",
   "mimetype": "text/x-python",
   "name": "python",
   "nbconvert_exporter": "python",
   "pygments_lexer": "ipython3",
   "version": "3.10.4"
  },
  "orig_nbformat": 4,
  "vscode": {
   "interpreter": {
    "hash": "916dbcbb3f70747c44a77c7bcd40155683ae19c65e1c03b4aa3499c5328201f1"
   }
  }
 },
 "nbformat": 4,
 "nbformat_minor": 2
}
